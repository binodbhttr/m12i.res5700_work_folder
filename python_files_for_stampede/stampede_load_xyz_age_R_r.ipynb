{
 "cells": [
  {
   "cell_type": "code",
   "execution_count": null,
   "metadata": {},
   "outputs": [],
   "source": [
    "import gizmo_analysis as gizmo\n",
    "import utilities as ut\n",
    "from matplotlib import pyplot as plt\n",
    "import numpy as np\n",
    "from mpl_toolkits.mplot3d import Axes3D\n",
    "%matplotlib notebook"
   ]
  },
  {
   "cell_type": "code",
   "execution_count": null,
   "metadata": {},
   "outputs": [],
   "source": [
    "simname = 'm12i_res7100_mhdcv'\n",
    "simdir = '/scratch/projects/xsede/GalaxiesOnFIRE/mhdcv/m12i_res7100_mhdcv/1Myr/'\n",
    "snapnumber = 696"
   ]
  },
  {
   "cell_type": "code",
   "execution_count": null,
   "metadata": {},
   "outputs": [],
   "source": [
    "part = gizmo.io.Read.read_snapshots(['star'],'snapshot_index', snapnumber, simulation_name=simname, simulation_directory=simdir, assign_hosts=True, assign_hosts_rotation=True)"
   ]
  },
  {
   "cell_type": "code",
   "execution_count": null,
   "metadata": {},
   "outputs": [],
   "source": [
    "part['star'].keys()"
   ]
  },
  {
   "cell_type": "code",
   "execution_count": null,
   "metadata": {},
   "outputs": [],
   "source": [
    "# 3-D position of star particle (particle number x dimension number) [kpc comoving]\n",
    "\n",
    "starposition=part['star']['position'] # starposition is the array of position of all stars\n",
    "ageall=part['star'].prop('age') #stored all ages in a\n",
    " \n",
    "xall = part['star'].prop('host.distance.principal')[:,0] #x component of the position of all stars \n",
    "yall = part['star'].prop('host.distance.principal')[:,1] #y component of the position of all stars\n",
    "zall = part['star'].prop('host.distance.principal')[:,2] #z component of the position of all stars\n",
    "nall=len(xall) # counting the total no. of star particles\n",
    "\n",
    "n=nall # This is the no. of stars we are going to use. n=nall means choose all, n=100 means choose 100\n",
    "                \n",
    "smallpart=starposition[0:n] # This is selecting a small part from the collection of all star positions\n",
    "\n",
    "x=xall[0:n] # select x components from 0 to n\n",
    "y=yall[0:n] # select y components from 0 to n\n",
    "z=zall[0:n] # select z components from 0 to n\n",
    "age=ageall[0:n]*1e9 #age converted to years Note: NOT IN GYR ANYMORE !!!!!!!!!!!\n",
    "\n",
    "R=np.sqrt(np.square(x)+np.square(y)) #calculate the radius in the xy plane\n",
    "r=np.sqrt(x**2+y**2+z**2) #calculate the spherical radius in the xyz plane"
   ]
  },
  {
   "cell_type": "code",
   "execution_count": null,
   "metadata": {},
   "outputs": [],
   "source": []
  },
  {
   "cell_type": "code",
   "execution_count": null,
   "metadata": {},
   "outputs": [],
   "source": []
  }
 ],
 "metadata": {
  "kernelspec": {
   "display_name": "Python 3",
   "language": "python",
   "name": "python3"
  },
  "language_info": {
   "codemirror_mode": {
    "name": "ipython",
    "version": 3
   },
   "file_extension": ".py",
   "mimetype": "text/x-python",
   "name": "python",
   "nbconvert_exporter": "python",
   "pygments_lexer": "ipython3",
   "version": "3.7.6"
  }
 },
 "nbformat": 4,
 "nbformat_minor": 2
}
